{
 "cells": [
  {
   "cell_type": "code",
   "execution_count": 71,
   "metadata": {
    "collapsed": true
   },
   "outputs": [],
   "source": [
    "import os\n",
    "import sys\n",
    "import subprocess\n",
    "import json\n",
    "import re\n",
    "import datetime\n",
    "\n"
   ]
  },
  {
   "cell_type": "code",
   "execution_count": 72,
   "metadata": {
    "collapsed": true
   },
   "outputs": [],
   "source": [
    "def setEnv(spark_home):    \n",
    "    if not spark_home:\n",
    "     raise ValueError('SPARK_HOME environment variable is not set')\n",
    "    os.environ['SPARK_HOME']=spark_home\n",
    "    sys.path.insert(0, os.path.join(spark_home, 'python'))\n",
    "    sys.path.insert(0, os.path.join(spark_home, 'python/lib/py4j-0.8.2.1-src.zip'))"
   ]
  },
  {
   "cell_type": "code",
   "execution_count": 101,
   "metadata": {
    "collapsed": true
   },
   "outputs": [],
   "source": [
    "def getSC(master, appName='test', cores='10', mem='10g'):\n",
    "    if not master:\n",
    "        raise ValueError('master is not set')\n",
    "    sparkEnv={\"spark.cores.max\":cores,\n",
    "              \"spark.driver.memory\":\"5g\",\n",
    "              \"spark.executor.memory\":mem}\n",
    "    conf = SparkConf()\n",
    "    conf.setMaster(master)\n",
    "    conf.setAppName(appName)\n",
    "    conf.setAll([(x,sparkEnv[x]) for x in sparkEnv])\n",
    "    sc = SparkContext(conf=conf)\n",
    "    sqlContext = HiveContext(sc)\n",
    "    \n",
    "    return sc, sqlContext"
   ]
  },
  {
   "cell_type": "code",
   "execution_count": 74,
   "metadata": {
    "collapsed": false
   },
   "outputs": [],
   "source": [
    "setEnv('/opt/spark-1.4.3-bin-cdh4')\n",
    "from pyspark import SparkContext, SparkConf\n",
    "from pyspark.sql import HiveContext\n",
    "from pyspark.sql.types import *\n",
    "from pyspark.sql.functions import udf \n",
    "from pyspark.sql.types import *\n",
    "from py4j.java_gateway import Py4JJavaError\n"
   ]
  },
  {
   "cell_type": "code",
   "execution_count": 75,
   "metadata": {
    "collapsed": false
   },
   "outputs": [],
   "source": [
    "sc, sqlContext=getSC('spark://bi-hd03:7077','dataframe',cores='80',mem='10g')"
   ]
  },
  {
   "cell_type": "markdown",
   "metadata": {},
   "source": [
    "# import data from Json"
   ]
  },
  {
   "cell_type": "code",
   "execution_count": 76,
   "metadata": {
    "collapsed": true
   },
   "outputs": [],
   "source": [
    "df = sqlContext.read.json(\"hdfs://bi-hd01:9000/user/bryan/ratings_demo.json\")"
   ]
  },
  {
   "cell_type": "code",
   "execution_count": 77,
   "metadata": {
    "collapsed": false
   },
   "outputs": [
    {
     "name": "stdout",
     "output_type": "stream",
     "text": [
      "root\n",
      " |-- ID: string (nullable = true)\n",
      " |-- payload: struct (nullable = true)\n",
      " |    |-- item: string (nullable = true)\n",
      " |    |-- ranking: string (nullable = true)\n",
      " |-- timestamp: string (nullable = true)\n",
      "\n"
     ]
    }
   ],
   "source": [
    "df.printSchema()"
   ]
  },
  {
   "cell_type": "code",
   "execution_count": 78,
   "metadata": {
    "collapsed": false
   },
   "outputs": [
    {
     "name": "stdout",
     "output_type": "stream",
     "text": [
      "+---+-------+---------+\n",
      "| ID|payload|timestamp|\n",
      "+---+-------+---------+\n",
      "|001|[301,5]| 20151201|\n",
      "|002|[301,4]| 20151202|\n",
      "|003|[302,2]| 20151202|\n",
      "|004|[303,5]| 20151203|\n",
      "|005|[303,5]| 20151203|\n",
      "+---+-------+---------+\n",
      "\n"
     ]
    }
   ],
   "source": [
    "df.show()"
   ]
  },
  {
   "cell_type": "markdown",
   "metadata": {},
   "source": [
    "# Play with Json"
   ]
  },
  {
   "cell_type": "code",
   "execution_count": 127,
   "metadata": {
    "collapsed": false
   },
   "outputs": [
    {
     "name": "stdout",
     "output_type": "stream",
     "text": [
      "+---+-------+---------+\n",
      "| ID|payload|timestamp|\n",
      "+---+-------+---------+\n",
      "|001|[301,5]| 20151201|\n",
      "+---+-------+---------+\n",
      "\n"
     ]
    }
   ],
   "source": [
    "df.filter('ID=001').show()"
   ]
  },
  {
   "cell_type": "code",
   "execution_count": 150,
   "metadata": {
    "collapsed": false
   },
   "outputs": [
    {
     "name": "stdout",
     "output_type": "stream",
     "text": [
      "+---+----+------+\n",
      "| ID|item|raking|\n",
      "+---+----+------+\n",
      "|001| 301|     5|\n",
      "|002| 301|     4|\n",
      "|003| 302|     2|\n",
      "|004| 303|     5|\n",
      "|005| 303|     5|\n",
      "+---+----+------+\n",
      "\n"
     ]
    }
   ],
   "source": [
    "df.select(df.ID, df.payload.item.alias('item'), df.payload.ranking.alias('raking')).show()"
   ]
  },
  {
   "cell_type": "code",
   "execution_count": 151,
   "metadata": {
    "collapsed": false
   },
   "outputs": [
    {
     "name": "stdout",
     "output_type": "stream",
     "text": [
      "+----------------+\n",
      "|payload[ranking]|\n",
      "+----------------+\n",
      "|               5|\n",
      "|               4|\n",
      "|               2|\n",
      "|               5|\n",
      "|               5|\n",
      "+----------------+\n",
      "\n"
     ]
    }
   ],
   "source": [
    "df.select(df.payload.ranking).show()"
   ]
  },
  {
   "cell_type": "code",
   "execution_count": 135,
   "metadata": {
    "collapsed": false
   },
   "outputs": [
    {
     "name": "stdout",
     "output_type": "stream",
     "text": [
      "+---+-------+---------+\n",
      "| ID|payload|timestamp|\n",
      "+---+-------+---------+\n",
      "|003|[302,2]| 20151202|\n",
      "+---+-------+---------+\n",
      "\n"
     ]
    }
   ],
   "source": [
    "df.filter(\"payload.ranking<3\").show()"
   ]
  },
  {
   "cell_type": "markdown",
   "metadata": {},
   "source": [
    "# Generate a Json RDD"
   ]
  },
  {
   "cell_type": "code",
   "execution_count": 92,
   "metadata": {
    "collapsed": false
   },
   "outputs": [],
   "source": [
    "from pyspark.sql import Row\n",
    "from pyspark.sql.functions import explode\n",
    "eDF = sqlContext.createDataFrame([Row(a=1, intlist=[1,2,3], mapfield={\"301\": \"5\",\"302\":\"4\"})])\n",
    "\n"
   ]
  },
  {
   "cell_type": "code",
   "execution_count": 93,
   "metadata": {
    "collapsed": false
   },
   "outputs": [
    {
     "name": "stdout",
     "output_type": "stream",
     "text": [
      "+-+--------------------+--------------------+\n",
      "|a|             intlist|            mapfield|\n",
      "+-+--------------------+--------------------+\n",
      "|1|ArrayBuffer(1, 2, 3)|Map(301 -> 5, 302...|\n",
      "+-+--------------------+--------------------+\n",
      "\n"
     ]
    }
   ],
   "source": [
    "eDF.show()"
   ]
  },
  {
   "cell_type": "code",
   "execution_count": 94,
   "metadata": {
    "collapsed": false
   },
   "outputs": [
    {
     "name": "stdout",
     "output_type": "stream",
     "text": [
      "root\n",
      " |-- a: long (nullable = true)\n",
      " |-- intlist: array (nullable = true)\n",
      " |    |-- element: long (containsNull = true)\n",
      " |-- mapfield: map (nullable = true)\n",
      " |    |-- key: string\n",
      " |    |-- value: string (valueContainsNull = true)\n",
      "\n"
     ]
    }
   ],
   "source": [
    "eDF.printSchema()"
   ]
  },
  {
   "cell_type": "markdown",
   "metadata": {},
   "source": [
    "# Amazing Explode"
   ]
  },
  {
   "cell_type": "code",
   "execution_count": 95,
   "metadata": {
    "collapsed": false
   },
   "outputs": [
    {
     "name": "stdout",
     "output_type": "stream",
     "text": [
      "+-----+\n",
      "|anInt|\n",
      "+-----+\n",
      "|    1|\n",
      "|    2|\n",
      "|    3|\n",
      "+-----+\n",
      "\n"
     ]
    }
   ],
   "source": [
    "eDF.select(explode(eDF.intlist).alias(\"anInt\")).show()"
   ]
  },
  {
   "cell_type": "code",
   "execution_count": 96,
   "metadata": {
    "collapsed": false
   },
   "outputs": [],
   "source": [
    "eDF_ex = eDF.select(eDF.a, explode(eDF.mapfield).alias(\"item\",\"raking\"))"
   ]
  },
  {
   "cell_type": "code",
   "execution_count": 97,
   "metadata": {
    "collapsed": false
   },
   "outputs": [
    {
     "name": "stdout",
     "output_type": "stream",
     "text": [
      "root\n",
      " |-- a: long (nullable = true)\n",
      " |-- item: string (nullable = false)\n",
      " |-- raking: string (nullable = true)\n",
      "\n"
     ]
    }
   ],
   "source": [
    "eDF_ex.printSchema()"
   ]
  },
  {
   "cell_type": "code",
   "execution_count": 98,
   "metadata": {
    "collapsed": false
   },
   "outputs": [
    {
     "name": "stdout",
     "output_type": "stream",
     "text": [
      "+-+----+------+\n",
      "|a|item|raking|\n",
      "+-+----+------+\n",
      "|1| 301|     5|\n",
      "|1| 302|     4|\n",
      "+-+----+------+\n",
      "\n"
     ]
    }
   ],
   "source": [
    "eDF_ex.show()"
   ]
  },
  {
   "cell_type": "markdown",
   "metadata": {},
   "source": [
    "# Save to Hdfs"
   ]
  },
  {
   "cell_type": "code",
   "execution_count": 64,
   "metadata": {
    "collapsed": false
   },
   "outputs": [],
   "source": [
    "eDF.repartition(1).write.save(\"hdfs://bi-hd01:9000/user/bryan/eDF.json\",format='parquet',mode='overwrite')"
   ]
  },
  {
   "cell_type": "code",
   "execution_count": 65,
   "metadata": {
    "collapsed": false
   },
   "outputs": [
    {
     "name": "stdout",
     "output_type": "stream",
     "text": [
      "SLF4J: Class path contains multiple SLF4J bindings.\n",
      "SLF4J: Found binding in [jar:file:/usr/lib/hadoop/lib/camus-example-0.1.0-SNAPSHOT-shaded.jar!/org/slf4j/impl/StaticLoggerBinder.class]\n",
      "SLF4J: Found binding in [jar:file:/usr/lib/zookeeper/lib/slf4j-log4j12-1.6.1.jar!/org/slf4j/impl/StaticLoggerBinder.class]\n",
      "SLF4J: See http://www.slf4j.org/codes.html#multiple_bindings for an explanation.\n",
      "Found 4 items\n",
      "-rw-r--r--   2 bryan bryan          0 2015-12-02 19:32 /user/bryan/eDF.json/_SUCCESS\n",
      "-rw-r--r--   2 bryan bryan        545 2015-12-02 19:32 /user/bryan/eDF.json/_common_metadata\n",
      "-rw-r--r--   2 bryan bryan       1033 2015-12-02 19:32 /user/bryan/eDF.json/_metadata\n",
      "-rw-r--r--   2 bryan bryan       1068 2015-12-02 19:32 /user/bryan/eDF.json/part-r-00000-68398d16-b54c-4a91-ba2d-e27c501c12b1.gz.parquet\n"
     ]
    }
   ],
   "source": [
    "!hadoop fs -ls /user/bryan/eDF.json"
   ]
  },
  {
   "cell_type": "code",
   "execution_count": 66,
   "metadata": {
    "collapsed": true
   },
   "outputs": [],
   "source": [
    "eDF2 = sqlContext.read.parquet(\"hdfs://bi-hd01:9000/user/bryan/eDF.json\")"
   ]
  },
  {
   "cell_type": "code",
   "execution_count": 67,
   "metadata": {
    "collapsed": false
   },
   "outputs": [
    {
     "name": "stdout",
     "output_type": "stream",
     "text": [
      "root\n",
      " |-- a: long (nullable = true)\n",
      " |-- intlist: array (nullable = true)\n",
      " |    |-- element: long (containsNull = true)\n",
      " |-- mapfield: map (nullable = true)\n",
      " |    |-- key: string\n",
      " |    |-- value: string (valueContainsNull = true)\n",
      "\n"
     ]
    }
   ],
   "source": [
    "eDF2.printSchema()"
   ]
  },
  {
   "cell_type": "code",
   "execution_count": 68,
   "metadata": {
    "collapsed": false
   },
   "outputs": [
    {
     "name": "stdout",
     "output_type": "stream",
     "text": [
      "+-+--------------------+--------------------+\n",
      "|a|             intlist|            mapfield|\n",
      "+-+--------------------+--------------------+\n",
      "|1|ArrayBuffer(1, 2, 3)|Map(301 -> 5, 302...|\n",
      "+-+--------------------+--------------------+\n",
      "\n"
     ]
    }
   ],
   "source": [
    "eDF2.show()"
   ]
  },
  {
   "cell_type": "code",
   "execution_count": 99,
   "metadata": {
    "collapsed": true
   },
   "outputs": [],
   "source": [
    "sc.stop()"
   ]
  },
  {
   "cell_type": "code",
   "execution_count": null,
   "metadata": {
    "collapsed": true
   },
   "outputs": [],
   "source": []
  }
 ],
 "metadata": {
  "kernelspec": {
   "display_name": "Python 2",
   "language": "python",
   "name": "python2"
  },
  "language_info": {
   "codemirror_mode": {
    "name": "ipython",
    "version": 2
   },
   "file_extension": ".py",
   "mimetype": "text/x-python",
   "name": "python",
   "nbconvert_exporter": "python",
   "pygments_lexer": "ipython2",
   "version": "2.7.10"
  }
 },
 "nbformat": 4,
 "nbformat_minor": 0
}
